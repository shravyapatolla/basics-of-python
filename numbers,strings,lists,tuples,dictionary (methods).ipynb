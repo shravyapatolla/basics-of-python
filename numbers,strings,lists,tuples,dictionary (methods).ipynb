{
 "cells": [
  {
   "cell_type": "code",
   "execution_count": 1,
   "id": "1a10827d",
   "metadata": {},
   "outputs": [
    {
     "name": "stdout",
     "output_type": "stream",
     "text": [
      "<class 'int'>\n"
     ]
    }
   ],
   "source": [
    "#numbers\n",
    "a=5\n",
    "print(type(a))"
   ]
  },
  {
   "cell_type": "code",
   "execution_count": 2,
   "id": "f28f8a44",
   "metadata": {},
   "outputs": [
    {
     "name": "stdout",
     "output_type": "stream",
     "text": [
      "<class 'complex'>\n"
     ]
    }
   ],
   "source": [
    "#type of variable \n",
    "a=1+2j\n",
    "print(type(a))"
   ]
  },
  {
   "cell_type": "code",
   "execution_count": 3,
   "id": "f7c4e008",
   "metadata": {},
   "outputs": [
    {
     "name": "stdout",
     "output_type": "stream",
     "text": [
      "(1+2j)\n"
     ]
    }
   ],
   "source": [
    "a=1+2j\n",
    "print((a))"
   ]
  },
  {
   "cell_type": "code",
   "execution_count": 6,
   "id": "03182a3b",
   "metadata": {},
   "outputs": [
    {
     "name": "stdout",
     "output_type": "stream",
     "text": [
      "<class 'float'>\n"
     ]
    }
   ],
   "source": [
    "a=1.7578383658499384\n",
    "print(type(a))"
   ]
  },
  {
   "cell_type": "code",
   "execution_count": 7,
   "id": "e710a1e4",
   "metadata": {},
   "outputs": [
    {
     "name": "stdout",
     "output_type": "stream",
     "text": [
      "[1, 2, 3]\n"
     ]
    }
   ],
   "source": [
    "#lists\n",
    "a=[1,2,3]\n",
    "print(a)"
   ]
  },
  {
   "cell_type": "code",
   "execution_count": 9,
   "id": "8dbe3999",
   "metadata": {},
   "outputs": [
    {
     "name": "stdout",
     "output_type": "stream",
     "text": [
      "3\n"
     ]
    }
   ],
   "source": [
    "a=[1,2,3,4,5,6,7,8,9]\n",
    "print(a[2])"
   ]
  },
  {
   "cell_type": "code",
   "execution_count": 12,
   "id": "828c44c7",
   "metadata": {},
   "outputs": [
    {
     "name": "stdout",
     "output_type": "stream",
     "text": [
      "[1, 2, 3]\n",
      "[6, 7, 8, 9, 10]\n",
      "[1, 3, 5, 7, 9]\n"
     ]
    }
   ],
   "source": [
    "#index\n",
    "a1=[1,2,3,4,5,6,7,8,9,10]\n",
    "print(a1[0:3])\n",
    "a2=[1,2,3,4,5,6,7,8,9,10]\n",
    "print(a2[5:])\n",
    "a3=[1,2,3,4,5,6,7,8,9,10]\n",
    "print(a3[0:9:2])        #increamenting\n"
   ]
  },
  {
   "cell_type": "code",
   "execution_count": 14,
   "id": "c053a505",
   "metadata": {},
   "outputs": [
    {
     "name": "stdout",
     "output_type": "stream",
     "text": [
      "[1, 2, 3, 9, 5]\n"
     ]
    }
   ],
   "source": [
    "#lists are mutuable\n",
    "a=[1,2,3,4,5]\n",
    "a[3]=9\n",
    "print(a)"
   ]
  },
  {
   "cell_type": "code",
   "execution_count": null,
   "id": "f6a4ba55",
   "metadata": {},
   "outputs": [],
   "source": []
  },
  {
   "cell_type": "code",
   "execution_count": 16,
   "id": "ef360d74",
   "metadata": {},
   "outputs": [
    {
     "name": "stdout",
     "output_type": "stream",
     "text": [
      "['xyz', [1, 2, 3, 4, 5], ['a']]\n"
     ]
    }
   ],
   "source": [
    "a=['xyz',[1,2,3],['a']]\n",
    "a[1]=[1,2,3,4,5]\n",
    "print(a)"
   ]
  },
  {
   "cell_type": "code",
   "execution_count": 23,
   "id": "d0172cbd",
   "metadata": {},
   "outputs": [
    {
     "name": "stdout",
     "output_type": "stream",
     "text": [
      "9\n",
      "1\n"
     ]
    }
   ],
   "source": [
    "#negative indexing\n",
    "a=[1,2,3,4,5,6,7,8,9]\n",
    "print(a[-1])\n",
    "a1=[1,2,3,4,5,6,7,8,9]\n",
    "print(a1[0])\n"
   ]
  },
  {
   "cell_type": "code",
   "execution_count": 25,
   "id": "e2a6a1fa",
   "metadata": {},
   "outputs": [
    {
     "name": "stdout",
     "output_type": "stream",
     "text": [
      "['t', 'h', 'o']\n",
      "['n']\n",
      "['p', 'y', 't', 'h', 'o', 'n']\n"
     ]
    }
   ],
   "source": [
    "a= ['p','y','t','h','o','n']\n",
    "print(a[2:5])\n",
    "print(a[5:])\n",
    "print(a[:])"
   ]
  },
  {
   "cell_type": "code",
   "execution_count": 29,
   "id": "32bebd62",
   "metadata": {},
   "outputs": [
    {
     "name": "stdout",
     "output_type": "stream",
     "text": [
      "[1, 2, 3, 4, 5, 6]\n",
      "[2, 3, 4, 5, 6, 7, 8]\n"
     ]
    }
   ],
   "source": [
    "a=[1,2,3,4,5]\n",
    "a.append(6)\n",
    "print(a)\n",
    "a1=[2,3,4,5]\n",
    "a1.extend([6,7,8])\n",
    "print(a1)"
   ]
  },
  {
   "cell_type": "code",
   "execution_count": 30,
   "id": "dc766923",
   "metadata": {},
   "outputs": [
    {
     "name": "stdout",
     "output_type": "stream",
     "text": [
      "[1, 2, 3, 4, 5]\n"
     ]
    }
   ],
   "source": [
    "a=[1,2,3,4,5]\n",
    "print(a)"
   ]
  },
  {
   "cell_type": "code",
   "execution_count": 31,
   "id": "8fef5b66",
   "metadata": {},
   "outputs": [
    {
     "name": "stdout",
     "output_type": "stream",
     "text": [
      "[1, 2, 3, 4, 5, 6]\n"
     ]
    }
   ],
   "source": [
    "a=[1,2,3,4,5]\n",
    "a.append(6)\n",
    "print(a)                #append"
   ]
  },
  {
   "cell_type": "code",
   "execution_count": 32,
   "id": "c1e6cbee",
   "metadata": {},
   "outputs": [
    {
     "data": {
      "text/plain": [
       "1"
      ]
     },
     "execution_count": 32,
     "metadata": {},
     "output_type": "execute_result"
    }
   ],
   "source": [
    "a=[1,2,3,4,5]\n",
    "a.count(2)              #count"
   ]
  },
  {
   "cell_type": "code",
   "execution_count": 33,
   "id": "253810d4",
   "metadata": {},
   "outputs": [
    {
     "name": "stdout",
     "output_type": "stream",
     "text": [
      "[1, 5, 4, 3, 2, 1]\n"
     ]
    }
   ],
   "source": [
    "a=[1,2,3,4,5,1]\n",
    "a.reverse()\n",
    "print(a)            #reverse"
   ]
  },
  {
   "cell_type": "code",
   "execution_count": 34,
   "id": "26ff6bda",
   "metadata": {},
   "outputs": [
    {
     "name": "stdout",
     "output_type": "stream",
     "text": [
      "[4, 5, 1, 2, 3]\n"
     ]
    }
   ],
   "source": [
    "p=[1,2,3]\n",
    "n=[4,5]\n",
    "n.extend(p)      #extend\n",
    "print(n)"
   ]
  },
  {
   "cell_type": "code",
   "execution_count": 35,
   "id": "378505d2",
   "metadata": {},
   "outputs": [
    {
     "name": "stdout",
     "output_type": "stream",
     "text": [
      "2\n"
     ]
    }
   ],
   "source": [
    "n=[1,2,3,4,5]\n",
    "i=n.index(3)\n",
    "print(i)"
   ]
  },
  {
   "cell_type": "code",
   "execution_count": 36,
   "id": "af7e35e6",
   "metadata": {},
   "outputs": [
    {
     "name": "stdout",
     "output_type": "stream",
     "text": [
      "[1, 2, 3, 5, 3, 6]\n"
     ]
    }
   ],
   "source": [
    "n=[1,2,3,5,6]\n",
    "n.insert(4,3)\n",
    "print(n)      #index"
   ]
  },
  {
   "cell_type": "code",
   "execution_count": 54,
   "id": "fe914ecc",
   "metadata": {},
   "outputs": [
    {
     "name": "stdout",
     "output_type": "stream",
     "text": [
      "['p', 'y', 'h', 'o', 'n']\n",
      "['p', 'o', 'n']\n"
     ]
    }
   ],
   "source": [
    "n = ['p', 'y', 't', 'h', 'o', 'n']\n",
    "del(n[2])\n",
    "print(n)\n",
    "n1 = ['p', 'y', 't', 'h', 'o', 'n']\n",
    "del(n1[1:4])\n",
    "print(n1)                    #deletion\n"
   ]
  },
  {
   "cell_type": "code",
   "execution_count": 38,
   "id": "b303b277",
   "metadata": {},
   "outputs": [
    {
     "data": {
      "text/plain": [
       "5"
      ]
     },
     "execution_count": 38,
     "metadata": {},
     "output_type": "execute_result"
    }
   ],
   "source": [
    "a=[1,2,3,4,5]\n",
    "max(a)            #maximum"
   ]
  },
  {
   "cell_type": "code",
   "execution_count": 39,
   "id": "f114803e",
   "metadata": {},
   "outputs": [
    {
     "data": {
      "text/plain": [
       "1"
      ]
     },
     "execution_count": 39,
     "metadata": {},
     "output_type": "execute_result"
    }
   ],
   "source": [
    "a=[1,2,3,4,5]\n",
    "min(a)           #minimum"
   ]
  },
  {
   "cell_type": "code",
   "execution_count": 40,
   "id": "afafdb9b",
   "metadata": {},
   "outputs": [
    {
     "data": {
      "text/plain": [
       "5"
      ]
     },
     "execution_count": 40,
     "metadata": {},
     "output_type": "execute_result"
    }
   ],
   "source": [
    "a=[1,2,3,4,5]\n",
    "len(a)               #length"
   ]
  },
  {
   "cell_type": "code",
   "execution_count": 42,
   "id": "d4465290",
   "metadata": {},
   "outputs": [
    {
     "name": "stdout",
     "output_type": "stream",
     "text": [
      "[1, 2, 3, 5, 7, 8]\n"
     ]
    }
   ],
   "source": [
    "a=[1,5,3,7,2,8]\n",
    "a.sort()\n",
    "print(a)         #sorting"
   ]
  },
  {
   "cell_type": "code",
   "execution_count": 44,
   "id": "cbf55d02",
   "metadata": {},
   "outputs": [
    {
     "name": "stdout",
     "output_type": "stream",
     "text": [
      "['p', 'y', 't', 'h', 'o', 'n']\n"
     ]
    }
   ],
   "source": [
    "#inserting\n",
    "a=['p','y','h','o','n']\n",
    "#inserting t at 2nd index\n",
    "a.insert(2,'t')\n",
    "print(a)"
   ]
  },
  {
   "cell_type": "code",
   "execution_count": 47,
   "id": "af130da1",
   "metadata": {},
   "outputs": [
    {
     "name": "stdout",
     "output_type": "stream",
     "text": [
      "4\n",
      "[1, 2, 3]\n"
     ]
    }
   ],
   "source": [
    "#pop\n",
    "a=[1,2,3,4]\n",
    "a1=a.pop(3)     #pop(index)\n",
    "print(a1)\n",
    "print(a)"
   ]
  },
  {
   "cell_type": "code",
   "execution_count": 48,
   "id": "c74f433f",
   "metadata": {},
   "outputs": [
    {
     "name": "stdout",
     "output_type": "stream",
     "text": [
      "(1, 2, 3)\n"
     ]
    }
   ],
   "source": [
    "#tuples\n",
    "t=(1,2,3)\n",
    "print(t)\n"
   ]
  },
  {
   "cell_type": "code",
   "execution_count": 49,
   "id": "a631a1a3",
   "metadata": {},
   "outputs": [
    {
     "name": "stdout",
     "output_type": "stream",
     "text": [
      "love\n"
     ]
    }
   ],
   "source": [
    "t=('i','love','python')\n",
    "print(t[1])"
   ]
  },
  {
   "cell_type": "code",
   "execution_count": 50,
   "id": "7d974eee",
   "metadata": {},
   "outputs": [
    {
     "name": "stdout",
     "output_type": "stream",
     "text": [
      "('i', 'love')\n"
     ]
    }
   ],
   "source": [
    "t=('i','love','python','language')\n",
    "print(t[0:2])"
   ]
  },
  {
   "cell_type": "code",
   "execution_count": 61,
   "id": "4eb2356e",
   "metadata": {},
   "outputs": [
    {
     "name": "stdout",
     "output_type": "stream",
     "text": [
      "6\n",
      "0\n"
     ]
    }
   ],
   "source": [
    "t=(1,2,3,4,5,6,0)\n",
    "print(max(t))       #maximum\n",
    "t1=(0,4,1,7)\n",
    "print(min(t1))      #minimum\n"
   ]
  },
  {
   "cell_type": "code",
   "execution_count": 62,
   "id": "9667b8be",
   "metadata": {},
   "outputs": [
    {
     "data": {
      "text/plain": [
       "5"
      ]
     },
     "execution_count": 62,
     "metadata": {},
     "output_type": "execute_result"
    }
   ],
   "source": [
    "t=(6,3,2,6,8)         #length\n",
    "len(t)"
   ]
  },
  {
   "cell_type": "code",
   "execution_count": 68,
   "id": "f0b45348",
   "metadata": {},
   "outputs": [
    {
     "name": "stdout",
     "output_type": "stream",
     "text": [
      "o\n",
      "pyth\n",
      "python\n"
     ]
    }
   ],
   "source": [
    "\n",
    "#strings\n",
    "str='python'\n",
    "print(str[4])\n",
    "print(str[0:4])\n",
    "print(str[0:])\n"
   ]
  },
  {
   "cell_type": "code",
   "execution_count": 69,
   "id": "038660e7",
   "metadata": {},
   "outputs": [
    {
     "data": {
      "text/plain": [
       "'SHRAVYA'"
      ]
     },
     "execution_count": 69,
     "metadata": {},
     "output_type": "execute_result"
    }
   ],
   "source": [
    "string=('shravya')\n",
    "string.upper()           #upper()\n"
   ]
  },
  {
   "cell_type": "code",
   "execution_count": 70,
   "id": "452be100",
   "metadata": {},
   "outputs": [
    {
     "data": {
      "text/plain": [
       "True"
      ]
     },
     "execution_count": 70,
     "metadata": {},
     "output_type": "execute_result"
    }
   ],
   "source": [
    "str='58878'\n",
    "str.isalnum()             #isalnum()"
   ]
  },
  {
   "cell_type": "code",
   "execution_count": 77,
   "id": "acd0c000",
   "metadata": {
    "scrolled": true
   },
   "outputs": [
    {
     "data": {
      "text/plain": [
       "True"
      ]
     },
     "execution_count": 77,
     "metadata": {},
     "output_type": "execute_result"
    }
   ],
   "source": [
    "str='56687'              #isdigit\n",
    "str.isdigit()"
   ]
  },
  {
   "cell_type": "code",
   "execution_count": 73,
   "id": "5d3775c8",
   "metadata": {},
   "outputs": [
    {
     "data": {
      "text/plain": [
       "False"
      ]
     },
     "execution_count": 73,
     "metadata": {},
     "output_type": "execute_result"
    }
   ],
   "source": [
    "str='SHRAVYA reddy'        #islower()\n",
    "str.islower()"
   ]
  },
  {
   "cell_type": "code",
   "execution_count": 74,
   "id": "dd9734ef",
   "metadata": {},
   "outputs": [
    {
     "data": {
      "text/plain": [
       "True"
      ]
     },
     "execution_count": 74,
     "metadata": {},
     "output_type": "execute_result"
    }
   ],
   "source": [
    "str='reddy'              #islower()\n",
    "str.islower()"
   ]
  },
  {
   "cell_type": "code",
   "execution_count": 79,
   "id": "94e987eb",
   "metadata": {},
   "outputs": [
    {
     "data": {
      "text/plain": [
       "False"
      ]
     },
     "execution_count": 79,
     "metadata": {},
     "output_type": "execute_result"
    }
   ],
   "source": [
    "str1='shravya reddy'       #isspacee()\n",
    "str1.isspace()"
   ]
  },
  {
   "cell_type": "code",
   "execution_count": 78,
   "id": "ef3a3bed",
   "metadata": {},
   "outputs": [
    {
     "data": {
      "text/plain": [
       "True"
      ]
     },
     "execution_count": 78,
     "metadata": {},
     "output_type": "execute_result"
    }
   ],
   "source": [
    "str='   '                    #isspace()\n",
    "str.isspace()"
   ]
  },
  {
   "cell_type": "code",
   "execution_count": 80,
   "id": "28ccc01c",
   "metadata": {},
   "outputs": [
    {
     "data": {
      "text/plain": [
       "'y'"
      ]
     },
     "execution_count": 80,
     "metadata": {},
     "output_type": "execute_result"
    }
   ],
   "source": [
    "str='s','h','r','a','v','y','a'\n",
    "max(str)                       #max()"
   ]
  },
  {
   "cell_type": "code",
   "execution_count": 81,
   "id": "d7201496",
   "metadata": {},
   "outputs": [
    {
     "data": {
      "text/plain": [
       "'a'"
      ]
     },
     "execution_count": 81,
     "metadata": {},
     "output_type": "execute_result"
    }
   ],
   "source": [
    "str='s','h','r','a','v','y','a' #min()\n",
    "min(str)"
   ]
  },
  {
   "cell_type": "code",
   "execution_count": 82,
   "id": "49fdb819",
   "metadata": {},
   "outputs": [
    {
     "data": {
      "text/plain": [
       "'Shravya'"
      ]
     },
     "execution_count": 82,
     "metadata": {},
     "output_type": "execute_result"
    }
   ],
   "source": [
    "str='shravya'\n",
    "str.capitalize()             #capitalize()"
   ]
  },
  {
   "cell_type": "code",
   "execution_count": 84,
   "id": "04e1822a",
   "metadata": {},
   "outputs": [
    {
     "data": {
      "text/plain": [
       "2"
      ]
     },
     "execution_count": 84,
     "metadata": {},
     "output_type": "execute_result"
    }
   ],
   "source": [
    "str='shravya'                 #count()\n",
    "str.count('a')"
   ]
  },
  {
   "cell_type": "code",
   "execution_count": 86,
   "id": "a5c7e959",
   "metadata": {},
   "outputs": [
    {
     "name": "stdout",
     "output_type": "stream",
     "text": [
      "['Python', 'is', 'a', 'fun', 'programming', 'language']\n"
     ]
    }
   ],
   "source": [
    "str= 'Python is a fun programming language'\n",
    "print(str.split(' '))          #split()\n"
   ]
  },
  {
   "cell_type": "code",
   "execution_count": 87,
   "id": "a321e2e3",
   "metadata": {},
   "outputs": [
    {
     "name": "stdout",
     "output_type": "stream",
     "text": [
      "False\n",
      "True\n"
     ]
    }
   ],
   "source": [
    "s='chicken soup for the soul'\n",
    "print(s.istitle())\n",
    "s1='Chickensoupforthesoul'        #title()\n",
    "print(s1.istitle())"
   ]
  },
  {
   "cell_type": "code",
   "execution_count": 88,
   "id": "a15340b4",
   "metadata": {},
   "outputs": [
    {
     "data": {
      "text/plain": [
       "24"
      ]
     },
     "execution_count": 88,
     "metadata": {},
     "output_type": "execute_result"
    }
   ],
   "source": [
    "s='shrav is playing cricket'\n",
    "len(s)\n"
   ]
  },
  {
   "cell_type": "code",
   "execution_count": 89,
   "id": "4961c116",
   "metadata": {},
   "outputs": [
    {
     "name": "stdout",
     "output_type": "stream",
     "text": [
      "['how', 'r', 'u']\n"
     ]
    }
   ],
   "source": [
    "str='how\\nr\\nu'\n",
    "print(str.splitlines())          #splitlines()\n"
   ]
  },
  {
   "cell_type": "code",
   "execution_count": 90,
   "id": "9c0c8f05",
   "metadata": {},
   "outputs": [
    {
     "name": "stdout",
     "output_type": "stream",
     "text": [
      "welCOME\n"
     ]
    }
   ],
   "source": [
    "str='WELcome'                   #swapcase()\n",
    "print(str.swapcase())"
   ]
  },
  {
   "cell_type": "code",
   "execution_count": 91,
   "id": "38df20a9",
   "metadata": {},
   "outputs": [
    {
     "data": {
      "text/plain": [
       "True"
      ]
     },
     "execution_count": 91,
     "metadata": {},
     "output_type": "execute_result"
    }
   ],
   "source": [
    "str='she loves cricket'           #startswith()\n",
    "str.startswith('she')"
   ]
  },
  {
   "cell_type": "code",
   "execution_count": 92,
   "id": "1180cfdb",
   "metadata": {},
   "outputs": [
    {
     "data": {
      "text/plain": [
       "True"
      ]
     },
     "execution_count": 92,
     "metadata": {},
     "output_type": "execute_result"
    }
   ],
   "source": [
    "str='she loves cricket'           #endswith()\n",
    "str.endswith('cricket')"
   ]
  },
  {
   "cell_type": "code",
   "execution_count": 93,
   "id": "67a5fe80",
   "metadata": {},
   "outputs": [
    {
     "data": {
      "text/plain": [
       "{'name': 'shravya', 'age': 19, 'number': 8594637388}"
      ]
     },
     "execution_count": 93,
     "metadata": {},
     "output_type": "execute_result"
    }
   ],
   "source": [
    "#dictionary\n",
    "dic={'name':'shravya','age':19,'number':8594637388}\n",
    "dic"
   ]
  },
  {
   "cell_type": "code",
   "execution_count": 94,
   "id": "82228a83",
   "metadata": {},
   "outputs": [
    {
     "name": "stdout",
     "output_type": "stream",
     "text": [
      "{'name': 'shravya', 'age': 25, 'number': 8594637388}\n"
     ]
    }
   ],
   "source": [
    "dic={'name':'shravya','age':19,'number':8594637388}\n",
    "dic['age']=25\n",
    "print(dic)"
   ]
  },
  {
   "cell_type": "code",
   "execution_count": 95,
   "id": "3623bafa",
   "metadata": {},
   "outputs": [
    {
     "data": {
      "text/plain": [
       "{'name': 'shravya', 'age': 19, 'number': 8594637388, 'add': 'hyd'}"
      ]
     },
     "execution_count": 95,
     "metadata": {},
     "output_type": "execute_result"
    }
   ],
   "source": [
    "dic={'name':'shravya','age':19,'number':8594637388}\n",
    "dic.update({'add':'hyd'})\n",
    "dic"
   ]
  },
  {
   "cell_type": "code",
   "execution_count": 96,
   "id": "e50df7f2",
   "metadata": {},
   "outputs": [
    {
     "name": "stdout",
     "output_type": "stream",
     "text": [
      "{'stuname': 'amith', 'dept': 'it', 'rno': 12}\n"
     ]
    }
   ],
   "source": [
    "stu={'stuname':'shrav','dept':'it','rno':12}\n",
    "stu['stuname']='amith'\n",
    "print(stu)"
   ]
  },
  {
   "cell_type": "code",
   "execution_count": 97,
   "id": "96f969b9",
   "metadata": {},
   "outputs": [
    {
     "data": {
      "text/plain": [
       "dict_items([('stuname', 'shrav'), ('dept', 'it'), ('rno', 12)])"
      ]
     },
     "execution_count": 97,
     "metadata": {},
     "output_type": "execute_result"
    }
   ],
   "source": [
    "stu={'stuname':'shrav','dept':'it','rno':12}\n",
    "stu.items()"
   ]
  },
  {
   "cell_type": "code",
   "execution_count": 98,
   "id": "9a83b655",
   "metadata": {},
   "outputs": [
    {
     "data": {
      "text/plain": [
       "dict_keys(['stuname', 'dept', 'rno'])"
      ]
     },
     "execution_count": 98,
     "metadata": {},
     "output_type": "execute_result"
    }
   ],
   "source": [
    "stu={'stuname':'shrav','dept':'it','rno':12}\n",
    "stu.keys()"
   ]
  },
  {
   "cell_type": "code",
   "execution_count": 99,
   "id": "aa4ff5b9",
   "metadata": {},
   "outputs": [
    {
     "data": {
      "text/plain": [
       "dict_values(['shrav', 'it', 12])"
      ]
     },
     "execution_count": 99,
     "metadata": {},
     "output_type": "execute_result"
    }
   ],
   "source": [
    "stu={'stuname':'shrav','dept':'it','rno':12}\n",
    "stu.values()"
   ]
  },
  {
   "cell_type": "code",
   "execution_count": 100,
   "id": "95a455c5",
   "metadata": {},
   "outputs": [
    {
     "name": "stdout",
     "output_type": "stream",
     "text": [
      "{'stuname': 'shrav', 'dept': 'it', 'rno': 12}\n",
      "{'stuname': 'shrav', 'dept': 'it', 'rno': 12}\n",
      "{'stuname': 'shrav', 'dept': 'it', 'rno': 12}\n"
     ]
    }
   ],
   "source": [
    "stu={'stuname':'shrav','dept':'it','rno':12}\n",
    "stu.copy()\n",
    "newstu1=stu.copy()\n",
    "print(newstu1)\n",
    "newstu1.items()\n",
    "print(stu)\n",
    "print(newstu1)"
   ]
  },
  {
   "cell_type": "code",
   "execution_count": 104,
   "id": "20460abf",
   "metadata": {},
   "outputs": [
    {
     "name": "stdout",
     "output_type": "stream",
     "text": [
      "siri\n",
      "26\n"
     ]
    }
   ],
   "source": [
    "dict = {'name': 'siri', 'age': 26}\n",
    "print(dict['name'])\n",
    "print(dict.get('age'))"
   ]
  },
  {
   "cell_type": "code",
   "execution_count": null,
   "id": "22088e6c",
   "metadata": {},
   "outputs": [],
   "source": []
  }
 ],
 "metadata": {
  "kernelspec": {
   "display_name": "Python 3 (ipykernel)",
   "language": "python",
   "name": "python3"
  },
  "language_info": {
   "codemirror_mode": {
    "name": "ipython",
    "version": 3
   },
   "file_extension": ".py",
   "mimetype": "text/x-python",
   "name": "python",
   "nbconvert_exporter": "python",
   "pygments_lexer": "ipython3",
   "version": "3.9.12"
  }
 },
 "nbformat": 4,
 "nbformat_minor": 5
}
